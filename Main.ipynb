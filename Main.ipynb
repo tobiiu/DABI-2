{
 "cells": [
  {
   "cell_type": "markdown",
   "id": "7b1ddf80",
   "metadata": {},
   "source": [
    "# Main Program"
   ]
  },
  {
   "cell_type": "code",
   "execution_count": 1,
   "id": "046876ee",
   "metadata": {},
   "outputs": [],
   "source": [
    "import numpy as np\n",
    "import pandas as pd\n",
    "import features\n",
    "\n",
    "# Load datasets\n",
    "orders = pd.read_parquet(\"orders.parquet\")\n",
    "order_products_denormalized = pd.read_csv(\"order_products_denormalized.csv\", dtype={'order_id': 'int64'})\n",
    "tips_public = pd.read_csv(\"tips_public.csv\", dtype={'order_id': 'int64'}).drop(columns=[\"Unnamed: 0\"])\n",
    "\n",
    "# Optimize memory usage by converting to categorical types\n",
    "order_products_denormalized['department'] = order_products_denormalized['department'].astype('category')\n",
    "order_products_denormalized['aisle'] = order_products_denormalized['aisle'].astype('category')\n",
    "\n",
    "# Ensure consistent data types\n",
    "orders['order_id'] = orders['order_id'].astype('int64')\n",
    "orders['user_id'] = orders['user_id'].astype('int64')\n",
    "order_products_denormalized['product_id'] = order_products_denormalized['product_id'].astype('int64')\n",
    "tips_public['order_id'] = tips_public['order_id'].astype('int64')"
   ]
  },
  {
   "cell_type": "markdown",
   "id": "2e2eae36",
   "metadata": {},
   "source": [
    "# Feature Engineering"
   ]
  },
  {
   "cell_type": "markdown",
   "id": "4ac3f730",
   "metadata": {},
   "source": [
    "## Feature Overview\n",
    "\n",
    "The following table lists all features engineered in this notebook, including their level, output columns, data types, and descriptions. All features are aggregated to the `order_id` level in the final DataFrame.\n",
    "\n",
    "| **Feature Name** | **Level** | **Output Columns** | **Data Type** | **Description** |\n",
    "|------------------|-----------|--------------------|---------------|-----------------|\n",
    "| `user_alcohol_purchase_count` | User | `[user_id, user_alcohol_purchase_count]` | Integer | Counts the total number of alcohol products purchased by each user across all orders, merged via user_id. |\n",
    "| `user_total_purchase_count` | User | `[user_id, user_total_purchase_count]` | Integer | Counts the total number of products purchased by each user across all orders, merged via user_id. |\n",
    "| `user_unique_product_count` | User | `[user_id, user_unique_product_count]` | Integer | Counts the number of unique products purchased by each user, merged via user_id. |\n",
    "| `user_unique_to_total_ratio` | User | `[user_id, user_unique_to_total_ratio]` | Float | Calculates the ratio of unique products to total products purchased by each user, merged via user_id. |\n",
    "| `user_frequent_purchase_hour` | User | `[user_id, user_frequent_purchase_hour]` | Integer (0–23) | Identifies the hour of the day when the user places the most orders, defaulting to 12 (noon) if missing, merged via user_id. |\n",
    "| `user_frequent_purchase_dow` | User | `[user_id, user_frequent_purchase_dow]` | Integer (0–6) | Identifies the day of the week (0=Monday, 6=Sunday) when the user places the most orders, defaulting to 0 (Monday), merged via user_id. |\n",
    "| `user_avg_order_interval_hours` | User | `[user_id, user_avg_order_interval_hours]` | Float | Calculates the average time (in hours) between consecutive orders for each user, using the dataset median for users with one order, merged via user_id. |\n",
    "| `user_frequent_hour_sin`, `user_frequent_hour_cos` | User | `[user_id, user_frequent_hour_sin, user_frequent_hour_cos]` | Float (-1 to 1) | Applies sine-cosine transformation to the most frequent purchase hour to capture its cyclical nature, merged via user_id. |\n",
    "| `user_frequent_season_sin`, `user_frequent_season_cos` | User | `[user_id, user_frequent_season_sin, user_frequent_season_cos]` | Float (-1 to 1) | Applies sine-cosine transformation to the most frequent purchase month to capture seasonal cyclicality, defaulting to January, merged via user_id. |\n",
    "| `order_has_alcohol` | Order | `[order_id, order_has_alcohol]` | Integer (0 or 1) | Flags whether an order contains any alcohol products (1 if yes, 0 if no). |\n",
    "| `order_product_count` | Order | `[order_id, order_product_count]` | Integer | Counts the total number of items (products) in each order. |\n",
    "| `order_unique_dept_count` | Order | `[order_id, order_unique_dept_count]` | Integer | Counts the number of unique departments in each order. |\n",
    "| `order_unique_aisle_count` | Order | `[order_id, order_unique_aisle_count]` | Integer | Counts the number of unique aisles in each order. |\n",
    "| `order_unique_dept_ratio` | Order | `[order_id, order_unique_dept_ratio]` | Float | Calculates the ratio of unique departments to total items in each order. |\n",
    "| `order_unique_aisle_ratio` | Order | `[order_id, order_unique_aisle_ratio]` | Float | Calculates the ratio of unique aisles to total items in each order. |\n",
    "| `order_dept_tip_rate` | Order | `[order_id, order_dept_tip_rate]` | Float (0 to 1) | Computes the average tip rate for the departments in an order based on prior orders, defaulting to 0.500111 for no history. |\n",
    "| `order_aisle_tip_rate` | Order | `[order_id, order_aisle_tip_rate]` | Float (0 to 1) | Computes the average tip rate for the aisles in an order based on prior orders, defaulting to 0.500111 for no history. |\n",
    "| `order_placed_hour` | Order | `[order_id, order_placed_hour]` | Integer (0–23) | Extracts the hour of the day when the order was placed. |\n",
    "| `order_placed_dow` | Order | `[order_id, order_placed_dow]` | Integer (0–6) | Extracts the day of the week (0=Monday, 6=Sunday) when the order was placed. |\n",
    "| `order_is_weekend` | Order | `[order_id, order_is_weekend]` | Integer (0 or 1) | Flags whether the order was placed on a weekend (Saturday or Sunday). |\n",
    "| `order_placed_hour_sin`, `order_placed_hour_cos` | Order | `[order_id, order_placed_hour_sin, order_placed_hour_cos]` | Float (-1 to 1) | Applies sine-cosine transformation to the order’s hour to capture its cyclical nature. |\n",
    "| `order_placed_season_sin`, `order_placed_season_cos` | Order | `[order_id, order_placed_season_sin, order_placed_season_cos]` | Float (-1 to 1) | Applies sine-cosine transformation to the order’s month to capture seasonal cyclicality. |\n",
    "| `order_time_since_last_hours` | Order | `[order_id, order_time_since_last_hours]` | Float | Calculates the time (in hours) since the user’s previous order, using the dataset median for first orders. |\n",
    "| `user_total_product_purchase_count` | User | `[user_id, user_total_product_purchase_count]` | Integer | Total count of products purchased by each user, aggregated from user-product level, merged via user_id. |\n",
    "| `user_product_tip_prob` | Order | `[order_id, user_product_tip_prob]` | Float (0 to 1) | Average tip probability for user-product pairs in an order, aggregated to order_id, defaulting to 0.500111 for no history. |\n"
   ]
  },
  {
   "cell_type": "code",
   "execution_count": null,
   "id": "7fe7efb1",
   "metadata": {},
   "outputs": [],
   "source": [
    "# Generate and display the combined feature DataFrame\n",
    "all_features_df = features.combine_all_features(orders, order_products_denormalized, tips_public)\n",
    "display(all_features_df)"
   ]
  },
  {
   "cell_type": "code",
   "execution_count": null,
   "id": "73170934",
   "metadata": {},
   "outputs": [],
   "source": [
    "all_features_df.to_csv('all_features.csv', index=False)"
   ]
  },
  {
   "cell_type": "code",
   "execution_count": null,
   "id": "b0223581",
   "metadata": {},
   "outputs": [],
   "source": [
    "from sklearn.ensemble import RandomForestClassifier\n",
    "from sklearn.model_selection import train_test_split\n",
    "from sklearn.metrics import accuracy_score, classification_report\n",
    "\n",
    "# 1. Daten aufteilen\n",
    "train_df = all_features_df[~all_features_df['tip'].isna()]\n",
    "predict_df = all_features_df[all_features_df['tip'].isna()]\n",
    "\n",
    "print(f\"Trainingsdaten: {train_df.shape}\")\n",
    "print(f\"Vorhersagedaten: {predict_df.shape}\")\n",
    "\n",
    "# 2. Features und Zielvariable definieren\n",
    "feature_columns = [\n",
    "    'order_has_alcohol', 'order_product_count', 'order_unique_dept_count',\n",
    "    'order_unique_aisle_count', 'order_unique_dept_ratio', 'order_unique_aisle_ratio',\n",
    "    'order_dept_tip_rate', 'order_aisle_tip_rate', 'order_placed_hour',\n",
    "    'order_placed_dow', 'order_is_weekend', 'order_placed_hour_sin',\n",
    "    'order_placed_hour_cos', 'order_placed_season_sin', 'order_placed_season_cos',\n",
    "    'order_time_since_last_hours', 'user_alcohol_purchase_count',\n",
    "    'user_total_purchase_count', 'user_unique_product_count',\n",
    "    'user_unique_to_total_ratio', 'user_frequent_purchase_hour',\n",
    "    'user_frequent_purchase_dow', 'user_avg_order_interval_hours',\n",
    "    'user_frequent_hour_sin', 'user_frequent_hour_cos',\n",
    "    'user_frequent_season_sin', 'user_frequent_season_cos',\n",
    "    'user_total_product_purchase_count', 'user_product_tip_prob'\n",
    "]\n",
    "X = train_df[feature_columns]\n",
    "y = train_df['tip'].astype('int')  # Annahme: tip ist binär (0 oder 1)\n",
    "\n",
    "# 3. Daten in Trainings- und Testset aufteilen (zur Evaluierung)\n",
    "X_train, X_test, y_train, y_test = train_test_split(X, y, test_size=0.2, random_state=42)\n",
    "\n",
    "# 4. Modell trainieren\n",
    "model = RandomForestClassifier(n_estimators=100, random_state=42, n_jobs=-1)\n",
    "model.fit(X_train, y_train)\n",
    "\n",
    "# 5. Modell evaluieren\n",
    "y_pred = model.predict(X_test)\n",
    "print(\"Genauigkeit:\", accuracy_score(y_test, y_pred))\n",
    "print(\"\\nKlassifikationsbericht:\\n\", classification_report(y_test, y_pred))\n",
    "\n",
    "# 6. Vorhersagen für NaN-Zeilen\n",
    "if not predict_df.empty:\n",
    "    X_predict = predict_df[feature_columns]\n",
    "    predict_df['tip'] = model.predict(X_predict).astype('int')\n",
    "else:\n",
    "    print(\"Keine Zeilen mit fehlendem tip zum Vorhersagen.\")\n",
    "\n",
    "# 7. Ergebnis-DataFrame erstellen\n",
    "result_df = predict_df[['order_id', 'tip']].copy()\n",
    "\n",
    "# 8. Ergebnis anzeigen und speichern\n",
    "print(\"\\nErgebnis-DataFrame:\")\n",
    "print(result_df.head())\n",
    "print(f\"Form des Ergebnis-DataFrames: {result_df.shape}\")\n",
    "\n",
    "# Ergebnis als CSV speichern\n",
    "result_df.to_csv('predicted_tips.csv', index=False)\n",
    "#print(\"Vorhersagen gespeichert als 'predicted_tips.csv'\")"
   ]
  },
  {
   "cell_type": "code",
   "execution_count": 34,
   "id": "350c7410",
   "metadata": {},
   "outputs": [],
   "source": [
    "prediction = pd.read_csv(\"predicted_tips.csv\")\n",
    "template = pd.read_csv(\"tip_testdaten_template_V2.csv\")"
   ]
  },
  {
   "cell_type": "code",
   "execution_count": 41,
   "id": "f5fc8d99",
   "metadata": {},
   "outputs": [],
   "source": [
    "template[[\"Unnamed: 0\",\"order_id\"]].merge(prediction).to_csv('predicted_tips.csv', index=False)"
   ]
  }
 ],
 "metadata": {
  "kernelspec": {
   "display_name": "Python 3",
   "language": "python",
   "name": "python3"
  },
  "language_info": {
   "codemirror_mode": {
    "name": "ipython",
    "version": 3
   },
   "file_extension": ".py",
   "mimetype": "text/x-python",
   "name": "python",
   "nbconvert_exporter": "python",
   "pygments_lexer": "ipython3",
   "version": "3.11.9"
  }
 },
 "nbformat": 4,
 "nbformat_minor": 5
}
